{
  "nbformat": 4,
  "nbformat_minor": 0,
  "metadata": {
    "colab": {
      "provenance": [],
      "authorship_tag": "ABX9TyNxdmm0sjKbyM4EdSKC4t3H"
    },
    "kernelspec": {
      "name": "python3",
      "display_name": "Python 3"
    },
    "language_info": {
      "name": "python"
    }
  },
  "cells": [
    {
      "cell_type": "code",
      "execution_count": null,
      "metadata": {
        "colab": {
          "base_uri": "https://localhost:8080/"
        },
        "id": "IaOZc2Nu1pI9",
        "outputId": "f317d207-04be-4929-dfae-b59bf86a7596"
      },
      "outputs": [
        {
          "output_type": "stream",
          "name": "stdout",
          "text": [
            "Questão 1 -\n",
            "O volume da esfera é: 523.333 \n",
            "\n",
            "Questão 2-\n",
            "O preço do livro com o desconto é: 14.97\n",
            "O preço total na questão 2 fica: 945.45 \n",
            "\n",
            "Questão 3-\n",
            "O Tempo Gasto Correndo foi: 38.1 minutos\n",
            "Por Fim sua chega foi a: 7.5\n"
          ]
        }
      ],
      "source": [
        "#Exércicio 2.2\n",
        "#Questão 1\n",
        "print('Questão 1 -')\n",
        "PI = 3.14\n",
        "raio = 5\n",
        "volumeEsfera = (4 / 3) * PI * (raio ** 3)\n",
        "print('O volume da esfera é:' ,round(volumeEsfera, 3),'\\n')\n",
        "\n",
        "#Questão 2\n",
        "print('Questão 2-')\n",
        "\n",
        "#Livros -\n",
        "Livro = 24.95\n",
        "Desconto = (Livro * 40/100)\n",
        "LivroPapelaria = Livro - Desconto\n",
        "print('O preço do livro com o desconto é:' ,round(LivroPapelaria, 2))\n",
        "#Transportes -\n",
        "PrimeiraTaxa = 3\n",
        "TransporteFixo = 0.75\n",
        "#Cálculo Final -\n",
        "Total = (round(LivroPapelaria, 2) * 60) + PrimeiraTaxa + (59 * TransporteFixo)\n",
        "print('O preço total na questão 2 fica:', Total, '\\n')\n",
        "\n",
        "#Questão 3\n",
        "print('Questão 3-')\n",
        "\n",
        "#Conversões\n",
        "SegundosDevagar = (8 * 60) + 15 #495 segundos\n",
        "SegundosRápido = (7 * 60) + 12 #432 segundos\n",
        "#Multiplicação de Tempo por KM\n",
        "KmRápido = SegundosRápido * 3\n",
        "KmDevagar = SegundosDevagar * 2\n",
        "\n",
        "TempoCorrida = (KmRápido + KmDevagar) / 60 #2286 segundos de corrida = 38.10 minutos\n",
        "print('O Tempo Gasto Correndo foi:', TempoCorrida, 'minutos')\n",
        "\n",
        "Saida = (6 * 60) + 52 #412 Minutos\n",
        "Chegada = (Saida + TempoCorrida) / 60\n",
        "print('Por Fim sua chega foi a:', round(Chegada, 1))"
      ]
    }
  ]
}
