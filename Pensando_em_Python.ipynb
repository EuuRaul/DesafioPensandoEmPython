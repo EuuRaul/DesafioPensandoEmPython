{
  "nbformat": 4,
  "nbformat_minor": 0,
  "metadata": {
    "colab": {
      "provenance": [],
      "authorship_tag": "ABX9TyPGKy/ILwfTCwdiw/A/4yYY"
    },
    "kernelspec": {
      "name": "python3",
      "display_name": "Python 3"
    },
    "language_info": {
      "name": "python"
    }
  },
  "cells": [
    {
      "cell_type": "code",
      "execution_count": null,
      "metadata": {
        "colab": {
          "base_uri": "https://localhost:8080/"
        },
        "id": "kziwyEi4W_F_",
        "outputId": "fcf958fd-f7db-4439-9b0e-bca10a62a1ac"
      },
      "outputs": [
        {
          "output_type": "stream",
          "name": "stdout",
          "text": [
            "Tempo total em segundos:  2562\n",
            "Distância em milhas:  6.21\n",
            "Tempo médio por milha em segundos:  412.48\n",
            "Tempo médio por milha em minutos:  6.87\n",
            "Tempo médio por milha em horas:  0.11\n"
          ]
        }
      ],
      "source": [
        "#Exercicío 1.2 - Pensando em Python\n",
        "#Questão 1\n",
        "calculo = 42 * 60 + 42\n",
        "print(\"Tempo total em segundos: \",calculo)\n",
        "\n",
        "#Questão 2\n",
        "milha = 1.61\n",
        "resultado = 10 / milha\n",
        "print(\"Distância em milhas: \",round(resultado, 2))\n",
        "\n",
        "#Questão 3\n",
        "mediaPorSegundo = calculo / resultado\n",
        "print(\"Tempo médio por milha em segundos: \",round(mediaPorSegundo, 2))\n",
        "mediaPorMinuto = mediaPorSegundo / 60\n",
        "print(\"Tempo médio por milha em minutos: \",round(mediaPorMinuto, 2))\n",
        "mediaPorHora = mediaPorMinuto / 60\n",
        "print(\"Tempo médio por milha em horas: \",round(mediaPorHora, 2))\n",
        "\n"
      ]
    }
  ]
}